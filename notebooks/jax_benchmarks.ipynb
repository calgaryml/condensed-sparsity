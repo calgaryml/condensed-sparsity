{
 "cells": [
  {
   "cell_type": "code",
   "execution_count": 1,
   "metadata": {},
   "outputs": [],
   "source": [
    "from hydra import initialize, compose\n",
    "import dotenv\n",
    "import os\n",
    "import pathlib\n",
    "\n",
    "from rigl_torch.utils.checkpoint import Checkpoint\n",
    "from rigl_torch.models import ModelFactory\n"
   ]
  },
  {
   "cell_type": "code",
   "execution_count": 2,
   "metadata": {},
   "outputs": [],
   "source": [
    "def get_mod(run_id: str, device):\n",
    "    with initialize(\"../configs\", version_base=\"1.2.0\"):\n",
    "        cfg = compose(\n",
    "            \"config.yaml\",\n",
    "            overrides=[\n",
    "                \"compute.distributed=False\",\n",
    "                \"dataset=imagenet\",\n",
    "                \"model=vit\",\n",
    "                f\"experiment.run_id={run_id}\",\n",
    "                \"training.batch_size=2\",\n",
    "            ],\n",
    "        )\n",
    "    dotenv.load_dotenv(\"../.env\", override=True)\n",
    "    os.environ[\"IMAGE_NET_PATH\"]\n",
    "    checkpoint_dir = pathlib.Path(f\"../artifacts/checkpoints/20230601_{run_id}\")\n",
    "    checkpoint = Checkpoint.load_best_checkpoint(checkpoint_dir=checkpoint_dir)\n",
    "    model_state = checkpoint.model\n",
    "    model = ModelFactory.load_model(\n",
    "        model=cfg.model.name, dataset=cfg.dataset.name, diet=cfg.rigl.diet\n",
    "    )\n",
    "    model.to(device)\n",
    "    try:\n",
    "        model.load_state_dict(model_state)\n",
    "    except RuntimeError:\n",
    "        model_state = (\n",
    "            checkpoint.get_single_process_model_state_from_distributed_state()\n",
    "        )\n",
    "        model.load_state_dict(model_state)\n",
    "    return model.get_submodule(\"encoder.layers.encoder_layer_11.mlp.0\")\n",
    "\n",
    "\n",
    "__RUN_IDS = {90: \"nrblbn15\"}\n",
    "t_fc = get_mod(__RUN_IDS[90], \"cpu\")\n",
    "\n"
   ]
  },
  {
   "cell_type": "code",
   "execution_count": 6,
   "metadata": {},
   "outputs": [
    {
     "data": {
      "text/plain": [
       "torch.Size([3072, 768])"
      ]
     },
     "execution_count": 6,
     "metadata": {},
     "output_type": "execute_result"
    }
   ],
   "source": [
    "t_fc.weight.shape"
   ]
  },
  {
   "cell_type": "code",
   "execution_count": 10,
   "metadata": {},
   "outputs": [
    {
     "name": "stdout",
     "output_type": "stream",
     "text": [
      "(3072, 768)\n"
     ]
    },
    {
     "ename": "ScopeParamShapeError",
     "evalue": "Initializer expected to generate shape (768, 3072) but got shape (768, 768) instead for parameter \"kernel\" in \"/\". (https://flax.readthedocs.io/en/latest/api_reference/flax.errors.html#flax.errors.ScopeParamShapeError)",
     "output_type": "error",
     "traceback": [
      "\u001b[0;31m---------------------------------------------------------------------------\u001b[0m",
      "\u001b[0;31mScopeParamShapeError\u001b[0m                      Traceback (most recent call last)",
      "\u001b[1;32m/home/user/condensed-sparsity/notebooks/jax_benchmarks.ipynb Cell 4\u001b[0m line \u001b[0;36m2\n\u001b[1;32m     <a href='vscode-notebook-cell://dev-container%2B7b22686f737450617468223a222f686f6d652f6d696b652f636f6e64656e7365642d7370617273697479222c226c6f63616c446f636b6572223a66616c73652c2273657474696e6773223a7b22686f7374223a227373683a2f2f6d696e6e6577616e6b61227d2c22636f6e66696746696c65223a7b22246d6964223a312c2270617468223a222f686f6d652f6d696b652f636f6e64656e7365642d73706172736974792f2e646576636f6e7461696e65722f646576636f6e7461696e65722e6a736f6e222c22736368656d65223a227673636f64652d66696c65486f7374227d7d/home/user/condensed-sparsity/notebooks/jax_benchmarks.ipynb#W2sdnNjb2RlLXJlbW90ZQ%3D%3D?line=21'>22</a>\u001b[0m variables \u001b[39m=\u001b[39m {\u001b[39m'\u001b[39m\u001b[39mparams\u001b[39m\u001b[39m'\u001b[39m: {\u001b[39m'\u001b[39m\u001b[39mkernel\u001b[39m\u001b[39m'\u001b[39m: kernel, \u001b[39m'\u001b[39m\u001b[39mbias\u001b[39m\u001b[39m'\u001b[39m: bias}}\n\u001b[1;32m     <a href='vscode-notebook-cell://dev-container%2B7b22686f737450617468223a222f686f6d652f6d696b652f636f6e64656e7365642d7370617273697479222c226c6f63616c446f636b6572223a66616c73652c2273657474696e6773223a7b22686f7374223a227373683a2f2f6d696e6e6577616e6b61227d2c22636f6e66696746696c65223a7b22246d6964223a312c2270617468223a222f686f6d652f6d696b652f636f6e64656e7365642d73706172736974792f2e646576636f6e7461696e65722f646576636f6e7461696e65722e6a736f6e222c22736368656d65223a227673636f64652d66696c65486f7374227d7d/home/user/condensed-sparsity/notebooks/jax_benchmarks.ipynb#W2sdnNjb2RlLXJlbW90ZQ%3D%3D?line=22'>23</a>\u001b[0m j_fc \u001b[39m=\u001b[39m nn\u001b[39m.\u001b[39mDense(features\u001b[39m=\u001b[39m\u001b[39m768\u001b[39m)\n\u001b[0;32m---> <a href='vscode-notebook-cell://dev-container%2B7b22686f737450617468223a222f686f6d652f6d696b652f636f6e64656e7365642d7370617273697479222c226c6f63616c446f636b6572223a66616c73652c2273657474696e6773223a7b22686f7374223a227373683a2f2f6d696e6e6577616e6b61227d2c22636f6e66696746696c65223a7b22246d6964223a312c2270617468223a222f686f6d652f6d696b652f636f6e64656e7365642d73706172736974792f2e646576636f6e7461696e65722f646576636f6e7461696e65722e6a736f6e222c22736368656d65223a227673636f64652d66696c65486f7374227d7d/home/user/condensed-sparsity/notebooks/jax_benchmarks.ipynb#W2sdnNjb2RlLXJlbW90ZQ%3D%3D?line=23'>24</a>\u001b[0m j_out \u001b[39m=\u001b[39m j_fc\u001b[39m.\u001b[39;49mapply(variables, x)\n\u001b[1;32m     <a href='vscode-notebook-cell://dev-container%2B7b22686f737450617468223a222f686f6d652f6d696b652f636f6e64656e7365642d7370617273697479222c226c6f63616c446f636b6572223a66616c73652c2273657474696e6773223a7b22686f7374223a227373683a2f2f6d696e6e6577616e6b61227d2c22636f6e66696746696c65223a7b22246d6964223a312c2270617468223a222f686f6d652f6d696b652f636f6e64656e7365642d73706172736974792f2e646576636f6e7461696e65722f646576636f6e7461696e65722e6a736f6e222c22736368656d65223a227673636f64652d66696c65486f7374227d7d/home/user/condensed-sparsity/notebooks/jax_benchmarks.ipynb#W2sdnNjb2RlLXJlbW90ZQ%3D%3D?line=25'>26</a>\u001b[0m t_x \u001b[39m=\u001b[39m torch\u001b[39m.\u001b[39mfrom_numpy(np\u001b[39m.\u001b[39marray(x))\n\u001b[1;32m     <a href='vscode-notebook-cell://dev-container%2B7b22686f737450617468223a222f686f6d652f6d696b652f636f6e64656e7365642d7370617273697479222c226c6f63616c446f636b6572223a66616c73652c2273657474696e6773223a7b22686f7374223a227373683a2f2f6d696e6e6577616e6b61227d2c22636f6e66696746696c65223a7b22246d6964223a312c2270617468223a222f686f6d652f6d696b652f636f6e64656e7365642d73706172736974792f2e646576636f6e7461696e65722f646576636f6e7461696e65722e6a736f6e222c22736368656d65223a227673636f64652d66696c65486f7374227d7d/home/user/condensed-sparsity/notebooks/jax_benchmarks.ipynb#W2sdnNjb2RlLXJlbW90ZQ%3D%3D?line=26'>27</a>\u001b[0m t_out \u001b[39m=\u001b[39m t_fc(t_x)\n",
      "    \u001b[0;31m[... skipping hidden 6 frame]\u001b[0m\n",
      "File \u001b[0;32m~/build/.venv/lib/python3.10/site-packages/flax/linen/linear.py:234\u001b[0m, in \u001b[0;36mDense.__call__\u001b[0;34m(self, inputs)\u001b[0m\n\u001b[1;32m    224\u001b[0m \u001b[39m@compact\u001b[39m\n\u001b[1;32m    225\u001b[0m \u001b[39mdef\u001b[39;00m \u001b[39m__call__\u001b[39m(\u001b[39mself\u001b[39m, inputs: Array) \u001b[39m-\u001b[39m\u001b[39m>\u001b[39m Array:\n\u001b[1;32m    226\u001b[0m \u001b[39m  \u001b[39m\u001b[39m\"\"\"Applies a linear transformation to the inputs along the last dimension.\u001b[39;00m\n\u001b[1;32m    227\u001b[0m \n\u001b[1;32m    228\u001b[0m \u001b[39m  Args:\u001b[39;00m\n\u001b[0;32m   (...)\u001b[0m\n\u001b[1;32m    232\u001b[0m \u001b[39m    The transformed input.\u001b[39;00m\n\u001b[1;32m    233\u001b[0m \u001b[39m  \"\"\"\u001b[39;00m\n\u001b[0;32m--> 234\u001b[0m   kernel \u001b[39m=\u001b[39m \u001b[39mself\u001b[39;49m\u001b[39m.\u001b[39;49mparam(\n\u001b[1;32m    235\u001b[0m       \u001b[39m'\u001b[39;49m\u001b[39mkernel\u001b[39;49m\u001b[39m'\u001b[39;49m,\n\u001b[1;32m    236\u001b[0m       \u001b[39mself\u001b[39;49m\u001b[39m.\u001b[39;49mkernel_init,\n\u001b[1;32m    237\u001b[0m       (jnp\u001b[39m.\u001b[39;49mshape(inputs)[\u001b[39m-\u001b[39;49m\u001b[39m1\u001b[39;49m], \u001b[39mself\u001b[39;49m\u001b[39m.\u001b[39;49mfeatures),\n\u001b[1;32m    238\u001b[0m       \u001b[39mself\u001b[39;49m\u001b[39m.\u001b[39;49mparam_dtype,\n\u001b[1;32m    239\u001b[0m   )\n\u001b[1;32m    240\u001b[0m   \u001b[39mif\u001b[39;00m \u001b[39mself\u001b[39m\u001b[39m.\u001b[39muse_bias:\n\u001b[1;32m    241\u001b[0m     bias \u001b[39m=\u001b[39m \u001b[39mself\u001b[39m\u001b[39m.\u001b[39mparam(\n\u001b[1;32m    242\u001b[0m         \u001b[39m'\u001b[39m\u001b[39mbias\u001b[39m\u001b[39m'\u001b[39m, \u001b[39mself\u001b[39m\u001b[39m.\u001b[39mbias_init, (\u001b[39mself\u001b[39m\u001b[39m.\u001b[39mfeatures,), \u001b[39mself\u001b[39m\u001b[39m.\u001b[39mparam_dtype\n\u001b[1;32m    243\u001b[0m     )\n",
      "    \u001b[0;31m[... skipping hidden 1 frame]\u001b[0m\n",
      "File \u001b[0;32m~/build/.venv/lib/python3.10/site-packages/flax/core/scope.py:975\u001b[0m, in \u001b[0;36mScope.param\u001b[0;34m(self, name, init_fn, unbox, *init_args)\u001b[0m\n\u001b[1;32m    970\u001b[0m   \u001b[39mfor\u001b[39;00m val, abs_val \u001b[39min\u001b[39;00m \u001b[39mzip\u001b[39m(value_flat, abs_value_flat):\n\u001b[1;32m    971\u001b[0m     \u001b[39m# NOTE: We could check dtype consistency here as well but it's\u001b[39;00m\n\u001b[1;32m    972\u001b[0m     \u001b[39m# usefuleness is less obvious. We might intentionally change the dtype\u001b[39;00m\n\u001b[1;32m    973\u001b[0m     \u001b[39m# for inference to a half float type for example.\u001b[39;00m\n\u001b[1;32m    974\u001b[0m     \u001b[39mif\u001b[39;00m jnp\u001b[39m.\u001b[39mshape(val) \u001b[39m!=\u001b[39m jnp\u001b[39m.\u001b[39mshape(abs_val):\n\u001b[0;32m--> 975\u001b[0m       \u001b[39mraise\u001b[39;00m errors\u001b[39m.\u001b[39mScopeParamShapeError(\n\u001b[1;32m    976\u001b[0m           name, \u001b[39mself\u001b[39m\u001b[39m.\u001b[39mpath_text, jnp\u001b[39m.\u001b[39mshape(abs_val), jnp\u001b[39m.\u001b[39mshape(val)\n\u001b[1;32m    977\u001b[0m       )\n\u001b[1;32m    978\u001b[0m \u001b[39melse\u001b[39;00m:\n\u001b[1;32m    979\u001b[0m   \u001b[39mif\u001b[39;00m \u001b[39mnot\u001b[39;00m \u001b[39mself\u001b[39m\u001b[39m.\u001b[39mis_mutable_collection(\u001b[39m'\u001b[39m\u001b[39mparams\u001b[39m\u001b[39m'\u001b[39m):\n",
      "\u001b[0;31mScopeParamShapeError\u001b[0m: Initializer expected to generate shape (768, 3072) but got shape (768, 768) instead for parameter \"kernel\" in \"/\". (https://flax.readthedocs.io/en/latest/api_reference/flax.errors.html#flax.errors.ScopeParamShapeError)"
     ]
    }
   ],
   "source": [
    "import torch\n",
    "\n",
    "import jax\n",
    "from typing import Any, Callable, Sequence, Optional, Tuple, Union\n",
    "from jax import random, vmap, numpy as jnp\n",
    "import flax\n",
    "from flax import linen as nn\n",
    "import numpy as np\n",
    "from functools import partial\n",
    "\n",
    "with torch.no_grad():\n",
    "    kernel = t_fc.weight.detach().cpu().numpy()\n",
    "    print(kernel.shape)\n",
    "    bias = t_fc.bias.detach().cpu().numpy()\n",
    "\n",
    "    # [outC, inC] -> [inC, outC]\n",
    "    kernel = jnp.transpose(kernel, (1, 0))\n",
    "\n",
    "    key = random.key(0)\n",
    "    x = random.normal(key, (64, 768))\n",
    "\n",
    "    variables = {'params': {'kernel': kernel, 'bias': bias}}\n",
    "    j_fc = nn.Dense(features=768)\n",
    "    j_out = j_fc.apply(variables, x)\n",
    "\n",
    "    t_x = torch.from_numpy(np.array(x))\n",
    "    t_out = t_fc(t_x)\n",
    "    t_out = t_out.detach().cpu().numpy()\n",
    "\n",
    "    np.testing.assert_almost_equal(j_out, t_out, decimal=6)\n",
    "    "
   ]
  }
 ],
 "metadata": {
  "kernelspec": {
   "display_name": ".venv",
   "language": "python",
   "name": "python3"
  },
  "language_info": {
   "codemirror_mode": {
    "name": "ipython",
    "version": 3
   },
   "file_extension": ".py",
   "mimetype": "text/x-python",
   "name": "python",
   "nbconvert_exporter": "python",
   "pygments_lexer": "ipython3",
   "version": "3.10.11"
  },
  "orig_nbformat": 4
 },
 "nbformat": 4,
 "nbformat_minor": 2
}
