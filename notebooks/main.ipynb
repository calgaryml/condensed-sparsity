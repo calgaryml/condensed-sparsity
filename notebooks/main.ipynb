{
 "cells": [
  {
   "cell_type": "code",
   "execution_count": 34,
   "metadata": {},
   "outputs": [],
   "source": [
    "import torch\n",
    "import torch.nn.functional as F\n",
    "import torch.multiprocessing as mp\n",
    "import torch.distributed as dist\n",
    "from torch.nn.parallel import DistributedDataParallel\n",
    "from torch.utils.tensorboard import SummaryWriter\n",
    "import pytorch_lightning as pl\n",
    "import random\n",
    "import dotenv\n",
    "import omegaconf\n",
    "import hydra\n",
    "import logging\n",
    "import wandb\n",
    "from datetime import date\n",
    "import dotenv\n",
    "import os\n",
    "import pathlib\n",
    "from typing import Dict, Any\n",
    "from copy import deepcopy\n",
    "\n",
    "from rigl_torch.models import ModelFactory\n",
    "from rigl_torch.rigl_scheduler import RigLScheduler\n",
    "from rigl_torch.rigl_constant_fan import RigLConstFanScheduler\n",
    "from rigl_torch.datasets import get_dataloaders\n",
    "from rigl_torch.optim import (\n",
    "    get_optimizer,\n",
    "    get_lr_scheduler,\n",
    ")\n",
    "from rigl_torch.utils.checkpoint import Checkpoint\n",
    "from rigl_torch.utils.rigl_utils import get_T_end, get_fan_in_after_ablation, get_conv_idx_from_flat_idx\n",
    "from hydra import initialize, compose\n",
    "\n"
   ]
  },
  {
   "cell_type": "code",
   "execution_count": 35,
   "metadata": {},
   "outputs": [
    {
     "name": "stdout",
     "output_type": "stream",
     "text": [
      "resnet18\n"
     ]
    }
   ],
   "source": [
    "with initialize(\"../configs\", version_base=\"1.2.0\"):\n",
    "    cfg = compose(\n",
    "        \"config.yaml\",\n",
    "        overrides=[\n",
    "            \"dataset=cifar10\",\n",
    "            \"compute.distributed=False\",\n",
    "            \"model=resnet18\"\n",
    "            ])\n",
    "dotenv.load_dotenv(\"../.env\")\n",
    "os.environ[\"IMAGE_NET_PATH\"]\n",
    "print(cfg.model.name)\n"
   ]
  },
  {
   "cell_type": "code",
   "execution_count": 135,
   "metadata": {},
   "outputs": [
    {
     "name": "stderr",
     "output_type": "stream",
     "text": [
      "INFO:rigl_torch.utils.checkpoint:Loading checkpoint from /Users/annago/Desktop/current_projects/work_w_UCalgary/checkpointsA/20230112_f75f6a5m/checkpoint.pt.tar...\n",
      "Global seed set to 42\n",
      "INFO:/Users/annago/Desktop/current_projects/work_w_UCalgary/condensed-sparsity/src/rigl_torch/models/model_factory.py:Loading model resnet18/cifar10 using <function ResNet18 at 0x12bd24a60> with args: () and kwargs: {}\n"
     ]
    },
    {
     "name": "stdout",
     "output_type": "stream",
     "text": [
      "loading to device rank: 0\n"
     ]
    }
   ],
   "source": [
    "run_id = \"f75f6a5m\" # us1p7psr (no dyn ablation), 8m2ytv3b (0.01), ek5wjcyn (0.1), f75f6a5m (0.5)\n",
    "rank=0\n",
    "ckpt_path=\"/Users/annago/Desktop/current_projects/work_w_UCalgary/checkpointsA\"\n",
    "\n",
    "checkpoint = Checkpoint.load_last_checkpoint(run_id=run_id, parent_dir = ckpt_path)\n",
    "#checkpoint=None\n",
    "if checkpoint is not None:\n",
    "    run_id = checkpoint.run_id\n",
    "    optimizer_state = checkpoint.optimizer\n",
    "    scheduler_state = checkpoint.scheduler\n",
    "    pruner_state = checkpoint.pruner\n",
    "    model_state = checkpoint.model\n",
    "    cfg = checkpoint.cfg\n",
    "else:\n",
    "    run_id, optimizer_state, scheduler_state, pruner_state, model_state = (\n",
    "        None,\n",
    "        None,\n",
    "        None,\n",
    "        None,\n",
    "        None,\n",
    "    )\n",
    "\n",
    "\n",
    "    # cfg.compute.distributed=False\n",
    "    \n",
    "pl.seed_everything(cfg.training.seed)\n",
    "use_cuda = not cfg.compute.no_cuda and torch.cuda.is_available()\n",
    "# if not use_cuda:\n",
    "#     raise SystemError(\"GPU has stopped responding...waiting to die!\")\n",
    "#     logger.warning(\n",
    "#         \"Using CPU! Verify cfg.compute.no_cuda and \"\n",
    "#         \"torch.cuda.is_available() are properly set if this is unexpected\"\n",
    "#     )\n",
    "\n",
    "\n",
    "if cfg.compute.distributed and use_cuda:\n",
    "    device = torch.device(f\"cuda:{rank}\")\n",
    "else:\n",
    "    print(f\"loading to device rank: {rank}\")\n",
    "    device = torch.device(f\"cuda:{rank}\")\n",
    "if not use_cuda:\n",
    "    device = torch.device(\"cuda\" if use_cuda else \"cpu\")\n",
    "# train_loader, test_loader = get_dataloaders(cfg)\n",
    "\n",
    "model = ModelFactory.load_model(\n",
    "    model=cfg.model.name, dataset=cfg.dataset.name\n",
    ")\n",
    "model.to(device)\n",
    "if cfg.compute.distributed:\n",
    "    model = DistributedDataParallel(model, device_ids=[rank])\n",
    "if model_state is not None:\n",
    "    try:\n",
    "        model.load_state_dict(model_state)\n",
    "    except RuntimeError:\n",
    "        model_state = checkpoint.get_single_process_model_state_from_distributed_state()\n",
    "        model.load_state_dict(model_state)\n",
    "        \n",
    "optimizer = get_optimizer(cfg, model, state_dict=optimizer_state)\n",
    "scheduler = get_lr_scheduler(cfg, optimizer, state_dict=scheduler_state)\n",
    "pruner = None\n",
    "if cfg.rigl.dense_allocation is not None:\n",
    "    T_end = get_T_end(cfg, [0 for _ in range(0,1251)])\n",
    "    if cfg.rigl.const_fan_in:\n",
    "        rigl_scheduler = RigLConstFanScheduler\n",
    "    else:\n",
    "        rigl_scheduler = RigLScheduler\n",
    "    pruner = rigl_scheduler(\n",
    "        model,\n",
    "        optimizer,\n",
    "        dense_allocation=cfg.rigl.dense_allocation,\n",
    "        alpha=cfg.rigl.alpha,\n",
    "        delta=cfg.rigl.delta,\n",
    "        static_topo=cfg.rigl.static_topo,\n",
    "        T_end=T_end,\n",
    "        ignore_linear_layers=cfg.rigl.ignore_linear_layers,\n",
    "        grad_accumulation_n=cfg.rigl.grad_accumulation_n,\n",
    "        sparsity_distribution=cfg.rigl.sparsity_distribution,\n",
    "        erk_power_scale=cfg.rigl.erk_power_scale,\n",
    "        state_dict=pruner_state,\n",
    "        filter_ablation_threshold=cfg.rigl.filter_ablation_threshold,\n",
    "        static_ablation=cfg.rigl.static_ablation,\n",
    "        dynamic_ablation=cfg.rigl.dynamic_ablation,\n",
    "        min_salient_weights_per_neuron=cfg.rigl.min_salient_weights_per_neuron,  # noqa\n",
    "        use_sparse_init=cfg.rigl.use_sparse_initialization,\n",
    "        init_method_str=cfg.rigl.init_method_str,\n",
    "        use_sparse_const_fan_in_for_ablation=cfg.rigl.use_sparse_const_fan_in_for_ablation,  # noqa\n",
    "    )\n",
    "    \n",
    "    step=0\n",
    "    \n",
    "    checkpoint = Checkpoint(\n",
    "                run_id=run_id,\n",
    "                cfg=cfg,\n",
    "                model=model,\n",
    "                optimizer=optimizer,\n",
    "                scheduler=scheduler,\n",
    "                pruner=pruner,\n",
    "                epoch=0,\n",
    "                step=step,\n",
    "                parent_dir=ckpt_path,\n",
    "            )\n",
    "\n",
    "    "
   ]
  },
  {
   "cell_type": "code",
   "execution_count": 137,
   "metadata": {},
   "outputs": [
    {
     "data": {
      "text/plain": [
       "True"
      ]
     },
     "execution_count": 137,
     "metadata": {},
     "output_type": "execute_result"
    }
   ],
   "source": []
  },
  {
   "cell_type": "code",
   "execution_count": null,
   "metadata": {},
   "outputs": [],
   "source": [
    "for k,v in checkpoint.cfg.items():\n",
    "    print(k,\"\\n\", v)\n",
    "    print()"
   ]
  },
  {
   "cell_type": "code",
   "execution_count": 15,
   "metadata": {},
   "outputs": [
    {
     "name": "stdout",
     "output_type": "stream",
     "text": [
      "0 torch.Size([64, 3, 3, 3])\n",
      "1 torch.Size([64, 64, 3, 3])\n",
      "2 torch.Size([64, 64, 3, 3])\n",
      "3 torch.Size([64, 64, 3, 3])\n",
      "4 torch.Size([64, 64, 3, 3])\n",
      "5 torch.Size([128, 64, 3, 3])\n",
      "6 torch.Size([128, 128, 3, 3])\n",
      "7 torch.Size([128, 64, 1, 1])\n",
      "8 torch.Size([128, 128, 3, 3])\n",
      "9 torch.Size([128, 128, 3, 3])\n",
      "10 torch.Size([256, 128, 3, 3])\n",
      "11 torch.Size([256, 256, 3, 3])\n",
      "12 torch.Size([256, 128, 1, 1])\n",
      "13 torch.Size([256, 256, 3, 3])\n",
      "14 torch.Size([256, 256, 3, 3])\n",
      "15 torch.Size([512, 256, 3, 3])\n",
      "16 torch.Size([512, 512, 3, 3])\n",
      "17 torch.Size([512, 256, 1, 1])\n",
      "18 torch.Size([512, 512, 3, 3])\n",
      "19 torch.Size([512, 512, 3, 3])\n",
      "20 None\n"
     ]
    }
   ],
   "source": [
    "masks= checkpoint.pruner.backward_masks\n",
    "num_layers= len(masks)\n",
    "for layer_ind in range(num_layers):\n",
    "    if masks[layer_ind] is not None:\n",
    "        s= masks[layer_ind].shape\n",
    "    else:\n",
    "        s='None'\n",
    "    print(layer_ind, s)"
   ]
  },
  {
   "cell_type": "code",
   "execution_count": null,
   "metadata": {},
   "outputs": [],
   "source": [
    "def get_children(model: torch.nn.Module):\n",
    "    # get children form model!\n",
    "    children = list(model.children())\n",
    "    flatt_children = []\n",
    "    if children == []:\n",
    "        # if model has no children; model is last child! :O\n",
    "        return model\n",
    "    else:\n",
    "       # look for children from children... to the last child!\n",
    "       for child in children:\n",
    "            try:\n",
    "                flatt_children.extend(get_children(child))\n",
    "            except TypeError:\n",
    "                flatt_children.append(get_children(child))\n",
    "    return flatt_children"
   ]
  },
  {
   "cell_type": "code",
   "execution_count": null,
   "metadata": {},
   "outputs": [],
   "source": [
    "flatM= get_children(M)\n",
    "\n",
    "j=0\n",
    "for i, layer in enumerate(flatM):\n",
    "    if isinstance(layer, (torch.nn.Conv2d,torch.nn.AvgPool2d)):\n",
    "        print(j, layer, \"   \", masks[j].shape)\n",
    "        j+=1"
   ]
  },
  {
   "cell_type": "code",
   "execution_count": null,
   "metadata": {},
   "outputs": [],
   "source": []
  },
  {
   "cell_type": "code",
   "execution_count": 7,
   "metadata": {},
   "outputs": [
    {
     "name": "stdout",
     "output_type": "stream",
     "text": [
      "0.5185, 0.4857\n",
      "0.9566, 0.9557\n",
      "0.9566, 0.9557\n",
      "0.9566, 0.9557\n",
      "0.9566, 0.9557\n",
      "0.9688, 0.9673\n",
      "0.9792, 0.9784\n",
      "0.7188, 0.7117\n"
     ]
    }
   ],
   "source": [
    "for i in range(8):\n",
    "    w= pruner.W[i]\n",
    "    #r= 1-torch.count_nonzero(w)/w.numel()\n",
    "    r= 1-torch.count_nonzero(masks[i])/w.numel()\n",
    "    s= pruner.S[i]\n",
    "    print(f\"{r.item():.4}, {s:.4}\")"
   ]
  },
  {
   "cell_type": "code",
   "execution_count": 37,
   "metadata": {},
   "outputs": [],
   "source": [
    "def get_num_allzero_kernels(w):\n",
    "    \"Counts the number of all-zero kernels in a given convolutional weight tensor.\"\n",
    "    num_filters= w.shape[0]\n",
    "    #zero_kernel_inds=[]\n",
    "    count=0\n",
    "    for filter_nr in range(num_filters):\n",
    "        for k_ind, kernel in enumerate(w[filter_nr]):\n",
    "            if kernel.any()==False:\n",
    "                #zero_kernel_inds.append((filter_nr,k_ind))\n",
    "                count+=1\n",
    "    return count\n",
    "\n",
    "def get_num_kernels(w):\n",
    "    \"Counts the number of kernels in a given convolutional weight tensor.\"\n",
    "    num_filters= w.shape[0]\n",
    "    num_kernels_per_filter= w.shape[1]\n",
    "    return num_filters*num_kernels_per_filter"
   ]
  },
  {
   "cell_type": "code",
   "execution_count": 102,
   "metadata": {},
   "outputs": [],
   "source": [
    "def get_num_allzero_filters(w):\n",
    "    \"\"\"Counts the number of all-zero filters in a given convolutional weight tensor,\n",
    "    which corresponds to the number of ablated neurons (neurons = output channels = filters).\n",
    "    \"\"\"\n",
    "    num_out_channels= w.shape[0]\n",
    "    count=0\n",
    "    for n in range(num_out_channels):\n",
    "        filter= w[n]\n",
    "        if filter.any()==False:\n",
    "            count+=1\n",
    "    return count\n"
   ]
  },
  {
   "cell_type": "code",
   "execution_count": 116,
   "metadata": {},
   "outputs": [],
   "source": [
    "#NumZeroFilters={}\n",
    "NumZeroFilters[run_id]= []\n",
    "\n",
    "for i, w in enumerate(pruner.W):\n",
    "    if pruner.S[i]>0:\n",
    "        num_zero_filters=get_num_allzero_filters(w)\n",
    "    else:\n",
    "        num_zero_filters=0\n",
    "    NumZeroFilters[run_id].append(num_zero_filters)\n",
    "\n"
   ]
  },
  {
   "cell_type": "code",
   "execution_count": 111,
   "metadata": {},
   "outputs": [
    {
     "data": {
      "text/plain": [
       "dict_keys(['f75f6a5m', 'us1p7psr', '8m2ytv3b', 'ek5wjcyn'])"
      ]
     },
     "execution_count": 111,
     "metadata": {},
     "output_type": "execute_result"
    }
   ],
   "source": []
  },
  {
   "cell_type": "code",
   "execution_count": null,
   "metadata": {},
   "outputs": [],
   "source": []
  },
  {
   "cell_type": "code",
   "execution_count": 44,
   "metadata": {},
   "outputs": [],
   "source": [
    "zkf[run_id]= []\n",
    "zkn[run_id]= []\n",
    "\n",
    "for i, w in enumerate(pruner.W):\n",
    "    if pruner.S[i]>0:\n",
    "        zero_kernel_fract= get_num_allzero_kernels(w)/get_num_kernels(w)\n",
    "        num_allzero_kernels= get_num_allzero_kernels(w)\n",
    "    else:\n",
    "        zero_kernel_fract=0\n",
    "        num_allzero_kernels=0\n",
    "    zkf[run_id].append(zero_kernel_fract)\n",
    "    zkn[run_id].append(num_allzero_kernels)\n",
    "\n"
   ]
  },
  {
   "cell_type": "code",
   "execution_count": 45,
   "metadata": {},
   "outputs": [
    {
     "name": "stdout",
     "output_type": "stream",
     "text": [
      "us1p7psr\n",
      "8m2ytv3b\n",
      "ek5wjcyn\n",
      "f75f6a5m\n"
     ]
    }
   ],
   "source": [
    "for k, v in zkf.items():\n",
    "    print(k)"
   ]
  },
  {
   "cell_type": "code",
   "execution_count": 117,
   "metadata": {},
   "outputs": [],
   "source": [
    "import matplotlib as mpl\n",
    "import matplotlib.pyplot as plt\n",
    "import matplotlib.patches as mpatches\n",
    "\n",
    "cmap = mpl.cm.get_cmap('plasma') # rainbow\n",
    "\n",
    "x=2.6\n",
    "title_font_size=5.5*x\n",
    "label_font_size=5.5*x\n",
    "tick_font_size=5*x\n",
    "legend_font_size=23*x/6\n",
    "legend_title_font_size=22*x/6\n",
    "\n",
    "#==== plot styling\n",
    "plotparams = {\n",
    "              'legend.fontsize': legend_font_size,\n",
    "              'legend.title_fontsize': legend_title_font_size,\n",
    "              'axes.labelsize': label_font_size,\n",
    "              'axes.titlesize': title_font_size,\n",
    "              'xtick.labelsize': tick_font_size,\n",
    "              'ytick.labelsize': tick_font_size\n",
    "}\n",
    "plt.style.use(plotparams)\n"
   ]
  },
  {
   "cell_type": "code",
   "execution_count": null,
   "metadata": {},
   "outputs": [],
   "source": []
  },
  {
   "cell_type": "code",
   "execution_count": 118,
   "metadata": {},
   "outputs": [
    {
     "data": {
      "image/png": "[encoded data removed]",
      "text/plain": [
       "<Figure size 432x288 with 1 Axes>"
      ]
     },
     "metadata": {
      "needs_background": "light"
     },
     "output_type": "display_data"
    }
   ],
   "source": [
    "la= {'us1p7psr': 'no abl.', '8m2ytv3b': 'abl.t=0.01', 'ek5wjcyn': 'abl.t=0.1', 'f75f6a5m': 'abl.t=0.5'}\n",
    "ma= {'us1p7psr': '.', \n",
    "'8m2ytv3b': '.', \n",
    "'ek5wjcyn': '.', \n",
    "'f75f6a5m': '.'}\n",
    "\n",
    "fig, ax = plt.subplots(1,1, figsize=(6,4))\n",
    "\n",
    "for k, v in zkf.items():\n",
    "    ax.plot(v, label=la[k], linestyle='', marker=ma[k], markersize=10, markerfacecolor='none')\n",
    "\n",
    "ax.legend()\n",
    "ax.set_xlabel('layer index')\n",
    "ax.set_ylabel('faction all-zero kernels')\n",
    "\n",
    "plt.savefig('ablations.png', format='png', dpi=200, facecolor='white', edgecolor='white')"
   ]
  },
  {
   "cell_type": "code",
   "execution_count": 134,
   "metadata": {},
   "outputs": [
    {
     "data": {
      "text/plain": [
       "[[],\n",
       " [],\n",
       " [],\n",
       " [],\n",
       " [],\n",
       " [],\n",
       " [],\n",
       " [],\n",
       " [],\n",
       " [],\n",
       " [],\n",
       " [],\n",
       " [],\n",
       " [],\n",
       " [],\n",
       " [],\n",
       " [],\n",
       " [],\n",
       " [],\n",
       " [],\n",
       " []]"
      ]
     },
     "execution_count": 134,
     "metadata": {},
     "output_type": "execute_result"
    }
   ],
   "source": [
    "pruner.dynamically_ablated_neuron_idx"
   ]
  },
  {
   "cell_type": "code",
   "execution_count": null,
   "metadata": {},
   "outputs": [],
   "source": []
  },
  {
   "cell_type": "code",
   "execution_count": 133,
   "metadata": {},
   "outputs": [
    {
     "data": {
      "image/png": "[encoded data removed]",
      "text/plain": [
       "<Figure size 432x288 with 1 Axes>"
      ]
     },
     "metadata": {
      "needs_background": "light"
     },
     "output_type": "display_data"
    }
   ],
   "source": [
    "fig, ax = plt.subplots(1,1, figsize=(6,4))\n",
    "\n",
    "for k in ['us1p7psr', 'f75f6a5m']:\n",
    "#, v in NumZeroFilters.items():\n",
    "    v= NumZeroFilters[k]\n",
    "    p= [v[i]/pruner.W[i].shape[0] for i in range(len(v))]\n",
    "    \n",
    "    ax.plot(p, label=la[k], linestyle='', marker=ma[k], markersize=10, markerfacecolor='none')\n",
    "\n",
    "ax.legend()\n",
    "ax.set_xlabel('layer index')\n",
    "ax.set_ylabel('faction all-zero neurons')\n",
    "\n",
    "plt.savefig('ablations_neurons.png', format='png', dpi=200, facecolor='white', edgecolor='white')"
   ]
  },
  {
   "cell_type": "code",
   "execution_count": null,
   "metadata": {},
   "outputs": [],
   "source": [
    "    \n",
    "import matplotlib.pyplot as plt\n",
    "%matplotlib inline\n",
    "lrs=[]\n",
    "for _ in list(range(1,149)):\n",
    "    scheduler.step()\n",
    "    lrs.append(scheduler.get_last_lr())\n",
    "\n",
    "plt.plot(lrs)"
   ]
  },
  {
   "cell_type": "code",
   "execution_count": null,
   "metadata": {},
   "outputs": [],
   "source": [
    "scheduler_state_dict, optimizer_state_dict = checkpoint.get_state()[\"scheduler\"], checkpoint.get_state()[\"optimizer\"]"
   ]
  },
  {
   "cell_type": "code",
   "execution_count": null,
   "metadata": {},
   "outputs": [],
   "source": [
    "new_optim = get_optimizer(cfg, model, optimizer_state_dict)\n",
    "ckp_scheduler= get_lr_scheduler(cfg, new_optim, state_dict=scheduler_state_dict)"
   ]
  },
  {
   "cell_type": "code",
   "execution_count": null,
   "metadata": {},
   "outputs": [],
   "source": [
    "ckp_scheduler.state_dict()"
   ]
  },
  {
   "cell_type": "code",
   "execution_count": null,
   "metadata": {},
   "outputs": [],
   "source": [
    "    \n",
    "import matplotlib.pyplot as plt\n",
    "%matplotlib inline\n",
    "lrs=[]\n",
    "for _ in list(range(149,501)):\n",
    "    ckp_scheduler.step()\n",
    "    lrs.append(ckp_scheduler.get_last_lr())\n",
    "\n",
    "plt.plot(lrs)"
   ]
  },
  {
   "cell_type": "code",
   "execution_count": null,
   "metadata": {},
   "outputs": [],
   "source": [
    "ckp_scheduler.__dict__"
   ]
  },
  {
   "cell_type": "code",
   "execution_count": null,
   "metadata": {},
   "outputs": [],
   "source": [
    "import matplotlib.pyplot as plt\n",
    "\n",
    "lrs = []\n",
    "for epoch in list(range(1,150)):\n",
    "    scheduler.step()\n",
    "    lrs.append(scheduler.get_last_lr())\n",
    "print(lrs)\n",
    "plt.plot(lrs)"
   ]
  },
  {
   "cell_type": "code",
   "execution_count": null,
   "metadata": {},
   "outputs": [],
   "source": [
    "pruner.__str__()"
   ]
  },
  {
   "cell_type": "code",
   "execution_count": null,
   "metadata": {},
   "outputs": [],
   "source": [
    "# net = ModelFactory.load_model(\"wide_resnet22\", \"cifar10\")\n",
    "model = ModelFactory.load_model(\"resnet50\", \"imagenet\")\n",
    "device = torch.device(\"cuda:0\")\n",
    "train_loader, test_loader = get_dataloaders(cfg)\n",
    "# model = ModelFactory.load_model(\n",
    "#         model=cfg.model.name, dataset=cfg.dataset.name\n",
    "#     )\n",
    "model.to(device)\n",
    "optimizer = get_optimizer(cfg, model, state_dict=None)\n",
    "scheduler = get_lr_scheduler(cfg, optimizer, state_dict=None)\n",
    "T_end = get_T_end(cfg, train_loader)\n",
    "if cfg.rigl.const_fan_in:\n",
    "    rigl_scheduler = RigLConstFanScheduler\n",
    "else:\n",
    "    rigl_scheduler = RigLScheduler\n",
    "# pruner = rigl_scheduler(\n",
    "#     model,\n",
    "#     optimizer,\n",
    "#     dense_allocation=cfg.rigl.dense_allocation,\n",
    "#     alpha=cfg.rigl.alpha,\n",
    "#     delta=cfg.rigl.delta,\n",
    "#     static_topo=cfg.rigl.static_topo,\n",
    "#     T_end=T_end,\n",
    "#     ignore_linear_layers=False,\n",
    "#     grad_accumulation_n=cfg.rigl.grad_accumulation_n,\n",
    "#     sparsity_distribution=cfg.rigl.sparsity_distribution,\n",
    "#     erk_power_scale=cfg.rigl.erk_power_scale,\n",
    "#     state_dict=None,\n",
    "#     filter_ablation_threshold=cfg.rigl.filter_ablation_threshold,\n",
    "#     static_ablation=cfg.rigl.static_ablation,\n",
    "#     dynamic_ablation=cfg.rigl.dynamic_ablation,\n",
    "#     min_salient_weights_per_neuron=cfg.rigl.min_salient_weights_per_neuron,\n",
    "#     )"
   ]
  },
  {
   "cell_type": "code",
   "execution_count": null,
   "metadata": {},
   "outputs": [],
   "source": [
    "pruner(\n",
    "    \n",
    ")"
   ]
  }
 ],
 "metadata": {
  "kernelspec": {
   "display_name": ".venv",
   "language": "python",
   "name": "python3"
  },
  "language_info": {
   "codemirror_mode": {
    "name": "ipython",
    "version": 3
   },
   "file_extension": ".py",
   "mimetype": "text/x-python",
   "name": "python",
   "nbconvert_exporter": "python",
   "pygments_lexer": "ipython3",
   "version": "3.8.13"
  },
  "orig_nbformat": 4,
  "vscode": {
   "interpreter": {
    "hash": "00f07e3d2e37fed0934a5fcb5990cf0253b1979f588b0b82b40c3b7117a4b479"
   }
  }
 },
 "nbformat": 4,
 "nbformat_minor": 2
}
