{
 "cells": [
  {
   "cell_type": "code",
   "execution_count": 1,
   "metadata": {},
   "outputs": [
    {
     "ename": "KeyError",
     "evalue": "'GOOGLE_CLOUD_BUCKET_NAME'",
     "output_type": "error",
     "traceback": [
      "\u001b[0;31m---------------------------------------------------------------------------\u001b[0m",
      "\u001b[0;31mKeyError\u001b[0m                                  Traceback (most recent call last)",
      "Cell \u001b[0;32mIn[1], line 5\u001b[0m\n\u001b[1;32m      3\u001b[0m \u001b[39mimport\u001b[39;00m \u001b[39mos\u001b[39;00m\n\u001b[1;32m      4\u001b[0m dotenv\u001b[39m.\u001b[39mload_dotenv(\u001b[39m\"\u001b[39m\u001b[39m../.env\u001b[39m\u001b[39m\"\u001b[39m)\n\u001b[0;32m----> 5\u001b[0m bucket_name \u001b[39m=\u001b[39m os\u001b[39m.\u001b[39;49menviron[\u001b[39m\"\u001b[39;49m\u001b[39mGOOGLE_CLOUD_BUCKET_NAME\u001b[39;49m\u001b[39m\"\u001b[39;49m]\n\u001b[1;32m      6\u001b[0m storage_client \u001b[39m=\u001b[39m storage\u001b[39m.\u001b[39mClient()\n\u001b[1;32m      7\u001b[0m bucket\u001b[39m=\u001b[39mstorage_client\u001b[39m.\u001b[39mget_bucket(bucket_name)\n",
      "File \u001b[0;32m/opt/conda/lib/python3.10/os.py:680\u001b[0m, in \u001b[0;36m_Environ.__getitem__\u001b[0;34m(self, key)\u001b[0m\n\u001b[1;32m    677\u001b[0m     value \u001b[39m=\u001b[39m \u001b[39mself\u001b[39m\u001b[39m.\u001b[39m_data[\u001b[39mself\u001b[39m\u001b[39m.\u001b[39mencodekey(key)]\n\u001b[1;32m    678\u001b[0m \u001b[39mexcept\u001b[39;00m \u001b[39mKeyError\u001b[39;00m:\n\u001b[1;32m    679\u001b[0m     \u001b[39m# raise KeyError with the original key value\u001b[39;00m\n\u001b[0;32m--> 680\u001b[0m     \u001b[39mraise\u001b[39;00m \u001b[39mKeyError\u001b[39;00m(key) \u001b[39mfrom\u001b[39;00m \u001b[39mNone\u001b[39;00m\n\u001b[1;32m    681\u001b[0m \u001b[39mreturn\u001b[39;00m \u001b[39mself\u001b[39m\u001b[39m.\u001b[39mdecodevalue(value)\n",
      "\u001b[0;31mKeyError\u001b[0m: 'GOOGLE_CLOUD_BUCKET_NAME'"
     ]
    }
   ],
   "source": [
    "from google.cloud import storage\n",
    "import dotenv\n",
    "import os\n",
    "dotenv.load_dotenv(\"../.env\")\n",
    "bucket_name = os.environ[\"GOOGLE_CLOUD_BUCKET_NAME\"]\n",
    "storage_client = storage.Client()\n",
    "bucket=storage_client.get_bucket(bucket_name)"
   ]
  },
  {
   "cell_type": "code",
   "execution_count": 14,
   "metadata": {},
   "outputs": [
    {
     "data": {
      "text/plain": [
       "<Blob: condensed_sparsity, ILSVRC2012_devkit_t12.tar.gz, 1673757831328123>"
      ]
     },
     "execution_count": 14,
     "metadata": {},
     "output_type": "execute_result"
    }
   ],
   "source": [
    "next(bucket.list_blobs())"
   ]
  },
  {
   "cell_type": "code",
   "execution_count": 7,
   "metadata": {},
   "outputs": [
    {
     "data": {
      "text/plain": [
       "{'kind': 'storage#bucket',\n",
       " 'selfLink': 'https://www.googleapis.com/storage/v1/b/condensed_sparsity',\n",
       " 'id': 'condensed_sparsity',\n",
       " 'name': 'condensed_sparsity',\n",
       " 'projectNumber': '180717771254',\n",
       " 'metageneration': '1',\n",
       " 'location': 'US-CENTRAL1',\n",
       " 'storageClass': 'STANDARD',\n",
       " 'etag': 'CAE=',\n",
       " 'timeCreated': '2023-01-15T04:37:02.321Z',\n",
       " 'updated': '2023-01-15T04:37:02.321Z',\n",
       " 'iamConfiguration': {'bucketPolicyOnly': {'enabled': True,\n",
       "   'lockedTime': '2023-04-15T04:37:02.321Z'},\n",
       "  'uniformBucketLevelAccess': {'enabled': True,\n",
       "   'lockedTime': '2023-04-15T04:37:02.321Z'},\n",
       "  'publicAccessPrevention': 'inherited'},\n",
       " 'locationType': 'region'}"
      ]
     },
     "execution_count": 7,
     "metadata": {},
     "output_type": "execute_result"
    }
   ],
   "source": [
    "bucket._properties"
   ]
  }
 ],
 "metadata": {
  "kernelspec": {
   "display_name": ".venv",
   "language": "python",
   "name": "python3"
  },
  "language_info": {
   "codemirror_mode": {
    "name": "ipython",
    "version": 3
   },
   "file_extension": ".py",
   "mimetype": "text/x-python",
   "name": "python",
   "nbconvert_exporter": "python",
   "pygments_lexer": "ipython3",
   "version": "3.10.8"
  },
  "orig_nbformat": 4,
  "vscode": {
   "interpreter": {
    "hash": "f8e7aa388760f1ed0054a801e8f4bc0d2f712d90d0781f57f52c8b826e4e7fab"
   }
  }
 },
 "nbformat": 4,
 "nbformat_minor": 2
}
